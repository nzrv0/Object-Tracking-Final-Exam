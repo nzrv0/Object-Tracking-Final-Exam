{
  "cells": [
    {
      "cell_type": "markdown",
      "metadata": {},
      "source": [
        "![ALT](/home/nzrv/Dev/last_exam/src/images/object_detection.jpeg)"
      ]
    },
    {
      "cell_type": "markdown",
      "metadata": {},
      "source": [
        "[Live Overview - StreamLit](https://object-tracking-final-exam.streamlit.app)\n",
        "\n",
        "[Model Weigth - Hugging Face](https://huggingface.co/nzrv0/object-tracking-model)"
      ]
    },
    {
      "cell_type": "markdown",
      "metadata": {},
      "source": [
        "# All articles and Books"
      ]
    },
    {
      "cell_type": "markdown",
      "metadata": {},
      "source": [
        "[Faster R-CNN: Towards Real-Time Object Detection with Region Proposal Networks](https://arxiv.org/pdf/1506.01497)\n",
        "\n",
        "[Faster RCNN in 2025: How it works and why it's still the benchmark for Object Detection](https://www.thinkautonomous.ai/blog/faster-rcnn/)\n",
        "\n",
        "[A complete overview of Object Tracking Algorithms in Computer Vision & Self-Driving Cars](https://www.thinkautonomous.ai/blog/faster-rcnn/)\n",
        "\n",
        "[Faster R-CNN step by step, Part I](https://dongjk.github.io/code/object+detection/keras/2018/05/21/Faster_R-CNN_step_by_step,_Part_I.html)\n",
        "\n",
        "[Faster R-CNN step by step, Part II](https://dongjk.github.io/code/object+detection/keras/2018/06/10/Faster_R-CNN_step_by_step,_Part_II.html)\n",
        "\n",
        "[R-CNN - Region-Based Convolutional Neural Networks](https://www.geeksforgeeks.org/machine-learning/r-cnn-region-based-cnns/)\n",
        "\n",
        "[Understanding Region of Interest (RoI Pooling)](https://erdem.pl/2020/02/understanding-region-of-interest-ro-i-pooling)\n",
        "\n",
        "[Region of Interest Pooling and Region of Interest Align explained](https://deepsense.ai/blog/region-of-interest-pooling-explained/)\n",
        "\n",
        "[Guide to build Faster RCNN in PyTorch](https://medium.com/@fractal.ai/guide-to-build-faster-rcnn-in-pytorch-42d47cb0ecd3)\n",
        "\n",
        "[Modern Computer Vision with PyTorch: A practical roadmap from deep learning fundamentals to advanced applications and Generative AI](https://www.amazon.com/Modern-Computer-Vision-PyTorch-comprehensive/dp/1803231335/ref=sr_1_1?sr=8-1)\n"
      ]
    },
    {
      "cell_type": "markdown",
      "metadata": {},
      "source": [
        "## Download Pascal Dataset"
      ]
    },
    {
      "cell_type": "code",
      "execution_count": null,
      "metadata": {},
      "outputs": [
        {
          "name": "stdout",
          "output_type": "stream",
          "text": [
            "--2025-06-27 14:30:15--  http://host.robots.ox.ac.uk/pascal/VOC/voc2012/VOCtrainval_11-May-2012.tar\n",
            "Resolving host.robots.ox.ac.uk (host.robots.ox.ac.uk)... 129.67.94.152\n",
            "Connecting to host.robots.ox.ac.uk (host.robots.ox.ac.uk)|129.67.94.152|:80... connected.\n",
            "HTTP request sent, awaiting response... 200 OK\n",
            "Length: 1999639040 (1.9G) [application/x-tar]\n",
            "Saving to: ‘VOCtrainval_11-May-2012.tar’\n",
            "\n",
            "VOCtrainval_11-May- 100%[===================>]   1.86G  21.5MB/s    in 97s     \n",
            "\n",
            "2025-06-27 14:31:53 (19.6 MB/s) - ‘VOCtrainval_11-May-2012.tar’ saved [1999639040/1999639040]\n",
            "\n"
          ]
        }
      ],
      "source": [
        "!wget http://host.robots.ox.ac.uk/pascal/VOC/voc2012/VOCtrainval_11-May-2012.tar"
      ]
    },
    {
      "cell_type": "code",
      "execution_count": null,
      "metadata": {},
      "outputs": [],
      "source": [
        "!tar -xf ./VOCtrainval_11-May-2012.tar"
      ]
    },
    {
      "cell_type": "code",
      "execution_count": null,
      "metadata": {},
      "outputs": [],
      "source": [
        "!wget http://host.robots.ox.ac.uk/pascal/VOC/voc2007/VOCtrainval_06-Nov-2007.tar"
      ]
    },
    {
      "cell_type": "code",
      "execution_count": null,
      "metadata": {},
      "outputs": [],
      "source": [
        "!tar -xf ./VOCtrainval_06-Nov-2007.tar"
      ]
    },
    {
      "cell_type": "markdown",
      "metadata": {
        "id": "5jxL7EyE1_gN"
      },
      "source": [
        "# Import libraries"
      ]
    },
    {
      "cell_type": "code",
      "execution_count": null,
      "metadata": {
        "id": "ll99RwW-1oe_"
      },
      "outputs": [],
      "source": [
        "import torch\n",
        "import torch.nn as nn\n",
        "from torchvision.models import vgg16, VGG16_Weights\n",
        "from torch.nn import functional as F\n",
        "from torchvision.ops import nms\n",
        "from torch.nn.functional import cross_entropy,softmax, smooth_l1_loss, binary_cross_entropy_with_logits\n",
        "from torch.utils.data import Dataset, DataLoader\n",
        "from torchvision import transforms as T\n",
        "from torch.optim import SGD\n",
        "from torch.optim.lr_scheduler import MultiStepLR\n",
        "from torchvision.ops import roi_pool, nms\n",
        "\n",
        "from PIL import Image\n",
        "import os\n",
        "import pandas as pd\n",
        "import numpy as np\n",
        "from torchsummary import summary\n",
        "from pathlib import Path\n",
        "import matplotlib.pyplot as plt\n",
        "\n",
        "\n",
        "from tqdm import tqdm"
      ]
    },
    {
      "cell_type": "code",
      "execution_count": 41,
      "metadata": {
        "id": "itp-Rxa62jWA"
      },
      "outputs": [],
      "source": [
        "device = \"cuda\" if torch.cuda.is_available() else \"cpu\""
      ]
    },
    {
      "cell_type": "markdown",
      "metadata": {
        "id": "YNljSyUt2q6C"
      },
      "source": [
        "# Some helper functions"
      ]
    },
    {
      "cell_type": "code",
      "execution_count": null,
      "metadata": {
        "id": "4AmaeiTb2p73"
      },
      "outputs": [],
      "source": [
        "def get_path(subpath: str) -> Path:\n",
        "    path = Path(\"./\")\n",
        "    path = path / subpath\n",
        "    return path\n",
        "\n",
        "\n",
        "def show_image(image):\n",
        "    plt.imshow(image)\n",
        "    plt.show()\n",
        "\n",
        "\n",
        "def get_device():\n",
        "    device = \"cuda\" if torch.cuda.is_available() else \"cpu\"\n",
        "    return device\n",
        "\n",
        "\n",
        "def summary_model(model_):\n",
        "    summary(model_)\n",
        "\n",
        "\n",
        "def iou_calc(boxes1, boxes2):\n",
        "    r\"\"\"\n",
        "    Interseciton over union\n",
        "    :param boxes1 are ground truth boxes (Tensor shape (N x 4))\n",
        "    :param boxes2 are anchors that we are generated (Tensor shape (M x 4))\n",
        "    :return (Tensor shape of NxM)\n",
        "    \"\"\"\n",
        "    area1 = (boxes1[:, 2] - boxes1[:, 0]) * (boxes1[:, 3] - boxes1[:, 1])\n",
        "    area2 = (boxes2[:, 2] - boxes2[:, 0]) * (boxes2[:, 3] - boxes2[:, 1])\n",
        "\n",
        "    # Get top left x1,y1 coordinate\n",
        "    x_left = torch.max(boxes1[:, None, 0], boxes2[:, 0])\n",
        "    y_top = torch.max(boxes1[:, None, 1], boxes2[:, 1])\n",
        "\n",
        "    # Get bottom right x2,y2 coordinate\n",
        "    x_right = torch.min(boxes1[:, None, 2], boxes2[:, 2])\n",
        "    y_bottom = torch.min(boxes1[:, None, 3], boxes2[:, 3])\n",
        "\n",
        "    intersection_area = (x_right - x_left).clamp(min=0) * (y_bottom - y_top).clamp(\n",
        "        min=0\n",
        "    )\n",
        "    union = area1[:, None] + area2 - intersection_area\n",
        "    iou = intersection_area / union\n",
        "    return iou\n",
        "\n",
        "\n",
        "def sample_pos_neg(lables, positive, total):\n",
        "    \"\"\"\n",
        "    Random sampling positive and negative labels\n",
        "    \"\"\"\n",
        "    pos = torch.where(lables >= 1)[0]\n",
        "    neg = torch.where(lables == 0)[0]\n",
        "\n",
        "    # selecting num of pos and neg if there're not enough pos we increase size of negative\n",
        "    num_pos = min(pos.numel(), positive)\n",
        "    num_neg = total - num_pos\n",
        "    num_neg = min(neg.numel(), num_neg)\n",
        "\n",
        "    # random sampling\n",
        "    num_rand_pos_idx = torch.randperm(pos.numel(), device=pos.device)[:num_pos]\n",
        "    num_rand_neg_idx = torch.randperm(neg.numel(), device=neg.device)[:num_neg]\n",
        "\n",
        "    pos_idx = pos[num_rand_pos_idx]\n",
        "    neg_idx = neg[num_rand_neg_idx]\n",
        "\n",
        "    # with this zeros like matrix we can spescify Trues and return boolen like torch tensor\n",
        "    mask_pos = torch.zeros_like(lables, dtype=torch.bool)\n",
        "    mask_neg = torch.zeros_like(lables, dtype=torch.bool)\n",
        "    mask_pos[pos_idx] = True\n",
        "    mask_neg[neg_idx] = True\n",
        "\n",
        "    return mask_neg, mask_pos"
      ]
    },
    {
      "cell_type": "markdown",
      "metadata": {},
      "source": [
        "![alt text](/home/nzrv/Dev/last_exam/src/images/iou_calculation.png)"
      ]
    },
    {
      "cell_type": "markdown",
      "metadata": {
        "id": "r0Dw7ZIu21eu"
      },
      "source": [
        "# anchors"
      ]
    },
    {
      "cell_type": "code",
      "execution_count": null,
      "metadata": {
        "id": "NP6pq18S25mC"
      },
      "outputs": [],
      "source": [
        "def anchor_size():\n",
        "    areas = np.array([[64, 64], [64 * 2, 64 * 2], [64 * 4, 64 * 4]])\n",
        "    ratio = np.array([0.5, 1.0, 2.0])\n",
        "\n",
        "    return (areas[:, None] * ratio[:, None]).reshape(-1, 2)\n",
        "\n",
        "\n",
        "def generate_anchor_maps(image, feature_map):\n",
        "    \"\"\"\n",
        "    Generate anchors based on image grid centers\n",
        "    :param image: (Tensor shape (im_height x im_width))\n",
        "    :param feature_map: (Tensor shape (512 x f_heihgt x f_width))\n",
        "    :return anchors: (Numpy shape (number_anchors, 4)), valid_anchors (Numpy shape (number_anchors x 4))\n",
        "    \"\"\"\n",
        "\n",
        "    # generating 3 anchros based on 3 size\n",
        "    anchors = anchor_size()\n",
        "\n",
        "    # creating tl, bl, tr, br\n",
        "    anc_len = anchors.shape[0]\n",
        "    anc_temp = np.empty((anc_len, 4))\n",
        "    anc_temp[:, 0:2] = -0.5 * anchors\n",
        "    anc_temp[:, 2:4] = +0.5 * anchors\n",
        "    \"\"\"\n",
        "        [[ -32.  -32.   32.   32.]\n",
        "        [ -64.  -64.   64.   64.]\n",
        "        [-128. -128.  128.  128.]\n",
        "        [ -64.  -64.   64.   64.]\n",
        "        [-128. -128.  128.  128.]\n",
        "        [-256. -256.  256.  256.]\n",
        "        [-128. -128.  128.  128.]\n",
        "        [-256. -256.  256.  256.]\n",
        "        [-512. -512.  512.  512.]]\n",
        "\n",
        "    \"\"\"\n",
        "    f_width = feature_map.shape[-1]\n",
        "    f_height = feature_map.shape[-2]\n",
        "\n",
        "    im_width = image.shape[-1]\n",
        "    im_height = image.shape[-2]\n",
        "\n",
        "    # calculate shift in that how original image differs from feature map for creating grid\n",
        "    w_stride = im_width / f_width\n",
        "    h_stride = im_height / f_height\n",
        "    shiftX = np.arange(0, f_width) * w_stride\n",
        "    shiftY = np.arange(0, f_height) * h_stride\n",
        "\n",
        "    xv, yv = np.meshgrid(shiftX, shiftY)\n",
        "    shifts = np.vstack((xv.ravel(), yv.ravel(), xv.ravel(), yv.ravel())).T\n",
        "\n",
        "    # sum up n dimensions with anch_temp\n",
        "    anchors = shifts.reshape((shifts.shape[0], 1, 4)) + anc_temp\n",
        "    anchors = anchors.reshape(-1, 4)\n",
        "    anchors = torch.tensor(anchors, device=device)\n",
        "    return anchors\n",
        "\n",
        "\n",
        "def clamp_boxes(boxes, image_shape):\n",
        "    \"\"\"\n",
        "    Clamp anchors or proposals to image boundires\n",
        "    \"\"\"\n",
        "    x1, y1, x2, y2 = boxes[..., 0], boxes[..., 1], boxes[..., 2], boxes[..., 3]\n",
        "    h, w = image_shape[-2:]\n",
        "\n",
        "    x1, x2 = x1.clamp(min=0, max=w), x2.clamp(min=0, max=w)\n",
        "    y1, y2 = y1.clamp(min=0, max=h), y2.clamp(min=0, max=h)\n",
        "\n",
        "    return torch.cat(\n",
        "        (x1[..., None], y1[..., None], x2[..., None], y2[..., None]), dim=-1\n",
        "    )\n",
        "\n",
        "\n",
        "def generate_pred_boxes(box_pred, anchors_or_props):\n",
        "    \"\"\"\n",
        "    Generating predicted boxes via transforming box_pred for all anchors or proposals\n",
        "    :param box_pred (Tensor shape (num_anchors_or_proposals, num_classes, 4))\n",
        "    :param anchors (Tensor shape (num_anchors, 4))\n",
        "    :return pred_box (Tensor shape (num_anchors_or_proposals, num_classes, 4))\n",
        "    \"\"\"\n",
        "    # reshape to format num of anchors or proposals, classes, 4 corners\n",
        "    box_pred = box_pred.reshape(box_pred.size(0), -1, 4)\n",
        "\n",
        "    # Get cx, cy, w, h from x1, y1, x2, y2\n",
        "    w = anchors_or_props[:, 2] - anchors_or_props[:, 0]\n",
        "    h = anchors_or_props[:, 3] - anchors_or_props[:, 1]\n",
        "    center_x = anchors_or_props[:, 0] + 0.5 * w\n",
        "    center_y = anchors_or_props[:, 1] + 0.5 * h\n",
        "\n",
        "    dx = box_pred[..., 0]\n",
        "    dy = box_pred[..., 1]\n",
        "    dw = box_pred[..., 2]\n",
        "    dh = box_pred[..., 3]\n",
        "\n",
        "    pred_center_x = dx * w[:, None] + center_x[:, None]\n",
        "    pred_center_y = dy * h[:, None] + center_y[:, None]\n",
        "    pred_w = torch.exp(dw) * w[:, None]\n",
        "    pred_h = torch.exp(dh) * h[:, None]\n",
        "\n",
        "    # converting again the same format x1, y1, x2, y2\n",
        "    pred_box_x1 = pred_center_x - 0.5 * pred_w\n",
        "    pred_box_y1 = pred_center_y - 0.5 * pred_h\n",
        "    pred_box_x2 = pred_center_x + 0.5 * pred_w\n",
        "    pred_box_y2 = pred_center_y + 0.5 * pred_h\n",
        "\n",
        "    # stacking vertically like in the format x1, y1, x2, y2\n",
        "    pred_boxes = torch.stack(\n",
        "        (pred_box_x1, pred_box_y1, pred_box_x2, pred_box_y2), dim=2\n",
        "    )\n",
        "    return pred_boxes\n",
        "\n",
        "\n",
        "def boxes_to_targets(gt_boxes, anchors):\n",
        "    \"\"\"\n",
        "    Transform anchors or proposals in the format of x1, y1, x2, y2 to transformed form tx, ty, tw, th\n",
        "    :param gt_boxes (Tensor shape (N x 4))\n",
        "    :param anchors (Tensor shape (N x 4))\n",
        "    :return (Tensor shape (N x 4))\n",
        "    \"\"\"\n",
        "\n",
        "    # Get cx, cy, w, h from x1, y1, x2, y2 for anchors\n",
        "    w = anchors[:, 2] - anchors[:, 0]\n",
        "    h = anchors[:, 3] - anchors[:, 1]\n",
        "    center_x = anchors[:, 0] + 0.5 * w\n",
        "    center_y = anchors[:, 1] + 0.5 * h\n",
        "\n",
        "    # Get center_x,center_y,w,h from x1,y1,x2,y2 for gt_boxes\n",
        "    gt_w = gt_boxes[:, 2] - gt_boxes[:, 0]\n",
        "    gt_h = gt_boxes[:, 3] - gt_boxes[:, 1]\n",
        "    gt_center_x = gt_boxes[:, 0] + 0.5 * w\n",
        "    gt_center_y = gt_boxes[:, 1] + 0.5 * h\n",
        "\n",
        "    # transform as top left, bottom left, top rigth, bottom rigth\n",
        "    target_dx = (gt_center_x - center_x) / w\n",
        "    target_dy = (gt_center_y - center_y) / h\n",
        "    target_dw = torch.log(gt_w / w)\n",
        "    target_dh = torch.log(gt_h / h)\n",
        "\n",
        "    # stack as tl, bl, tr, br in row wise\n",
        "    regression_targets = torch.stack(\n",
        "        (target_dx, target_dy, target_dw, target_dh), dim=1\n",
        "    )\n",
        "\n",
        "    return regression_targets\n",
        "def boxes_to_original(boxes, new_size, original_size):\n",
        "    \"\"\"\n",
        "    Turning images and boxes from scaled form to original form\n",
        "    \"\"\"\n",
        "    ratios = [\n",
        "        torch.tensor(s_orig, dtype=torch.float32, device=boxes.device)\n",
        "        / torch.tensor(s, dtype=torch.float32, device=boxes.device)\n",
        "        for s, s_orig in zip(new_size, original_size)\n",
        "    ]\n",
        "    ratio_height, ratio_width = ratios\n",
        "    xmin, ymin, xmax, ymax = boxes.unbind(1)\n",
        "    xmin = xmin * ratio_width\n",
        "    xmax = xmax * ratio_width\n",
        "    ymin = ymin * ratio_height\n",
        "    ymax = ymax * ratio_height\n",
        "    return torch.stack((xmin, ymin, xmax, ymax), dim=1)\n"
      ]
    },
    {
      "cell_type": "markdown",
      "metadata": {},
      "source": [
        "![alt text](/home/nzrv/Dev/last_exam/src/images/anchors.webp)"
      ]
    },
    {
      "cell_type": "markdown",
      "metadata": {
        "id": "5v0h97do3JQ2"
      },
      "source": [
        "# Pascal(VOC) Dataset"
      ]
    },
    {
      "cell_type": "code",
      "execution_count": null,
      "metadata": {
        "id": "HjJdcXf83LLY"
      },
      "outputs": [],
      "source": [
        "import glob\n",
        "import os\n",
        "import random\n",
        "from torch.utils.data.dataset import Dataset\n",
        "import xml.etree.ElementTree as ET\n",
        "import torchvision\n",
        "\n",
        "class VOCDataset(Dataset):\n",
        "    def __init__(self, split, im_dir, ann_dir):\n",
        "        self.split = split\n",
        "        self.im_dir = im_dir\n",
        "        self.ann_dir = ann_dir\n",
        "        classes = [\n",
        "            \"person\",\n",
        "            \"bird\",\n",
        "            \"cat\",\n",
        "            \"cow\",\n",
        "            \"dog\",\n",
        "            \"horse\",\n",
        "            \"sheep\",\n",
        "            \"aeroplane\",\n",
        "            \"bicycle\",\n",
        "            \"boat\",\n",
        "            \"bus\",\n",
        "            \"car\",\n",
        "            \"motorbike\",\n",
        "            \"train\",\n",
        "            \"bottle\",\n",
        "            \"chair\",\n",
        "            \"diningtable\",\n",
        "            \"pottedplant\",\n",
        "            \"sofa\",\n",
        "            \"tvmonitor\",\n",
        "        ]\n",
        "        classes = sorted(classes)\n",
        "        classes = [\"background\"] + classes\n",
        "        self.label2idx = {classes[idx]: idx for idx in range(len(classes))}\n",
        "        self.idx2label = {idx: classes[idx] for idx in range(len(classes))}\n",
        "        self.images_info = self.load_images_and_anns(im_dir, ann_dir, self.label2idx)\n",
        "\n",
        "    def load_images_and_anns(self, im_dir, ann_dir, label2idx):\n",
        "        im_infos = []\n",
        "        for ann_file in tqdm(glob.glob(os.path.join(ann_dir, \"*.xml\"))):\n",
        "            im_info = {}\n",
        "            im_info[\"img_id\"] = os.path.basename(ann_file).split(\".xml\")[0]\n",
        "            im_info[\"filename\"] = os.path.join(\n",
        "                im_dir, \"{}.jpg\".format(im_info[\"img_id\"])\n",
        "            )\n",
        "            ann_info = ET.parse(ann_file)\n",
        "            root = ann_info.getroot()\n",
        "            size = root.find(\"size\")\n",
        "            width = int(size.find(\"width\").text)\n",
        "            height = int(size.find(\"height\").text)\n",
        "            im_info[\"width\"] = width\n",
        "            im_info[\"height\"] = height\n",
        "            detections = []\n",
        "\n",
        "            for obj in ann_info.findall(\"object\"):\n",
        "                det = {}\n",
        "\n",
        "                label = label2idx[obj.find(\"name\").text]\n",
        "                bbox_info = obj.find(\"bndbox\")\n",
        "                bbox = [\n",
        "                    int(float(bbox_info.find(\"xmin\").text)) - 1,\n",
        "                    int(float(bbox_info.find(\"ymin\").text)) - 1,\n",
        "                    int(float(bbox_info.find(\"xmax\").text)) - 1,\n",
        "                    int(float(bbox_info.find(\"ymax\").text)) - 1,\n",
        "                ]\n",
        "                det[\"label\"] = label\n",
        "                det[\"bbox\"] = bbox\n",
        "                detections.append(det)\n",
        "            im_info[\"detections\"] = detections\n",
        "            im_infos.append(im_info)\n",
        "        return im_infos\n",
        "\n",
        "    def __len__(self):\n",
        "        return len(self.images_info)\n",
        "\n",
        "    def __getitem__(self, index):\n",
        "        im_info = self.images_info[index]\n",
        "        im = Image.open(im_info[\"filename\"])\n",
        "        to_flip = False\n",
        "        if self.split == \"train\" and random.random() < 0.5:\n",
        "            to_flip = True\n",
        "            im = im.transpose(Image.FLIP_LEFT_RIGHT)\n",
        "        im_tensor = torchvision.transforms.ToTensor()(im)\n",
        "        box_cords = torch.as_tensor(\n",
        "            [detection[\"bbox\"] for detection in im_info[\"detections\"]]\n",
        "        )\n",
        "        categories = torch.as_tensor(\n",
        "            [detection[\"label\"] for detection in im_info[\"detections\"]]\n",
        "        )\n",
        "        if to_flip:\n",
        "            for idx, box in enumerate(box_cords):\n",
        "                x1, y1, x2, y2 = box\n",
        "                w = x2 - x1\n",
        "                im_w = im_tensor.shape[-1]\n",
        "                x1 = im_w - x1 - w\n",
        "                x2 = x1 + w\n",
        "                box_cords[idx] = torch.as_tensor([x1, y1, x2, y2])\n",
        "        return {\n",
        "            \"image\": im_tensor.to(device=device),\n",
        "            \"cords\": box_cords.to(device=device),\n",
        "            \"labels\": self.idx2label,\n",
        "            \"gt_labels\": categories.to(device=device),\n",
        "        }\n"
      ]
    },
    {
      "cell_type": "markdown",
      "metadata": {
        "id": "PaPd48ip28lH"
      },
      "source": [
        "# Region Proposal Network"
      ]
    },
    {
      "cell_type": "code",
      "execution_count": null,
      "metadata": {
        "id": "EPbuCCLn3AK1"
      },
      "outputs": [],
      "source": [
        "class RegionProposalNetwork(nn.Module):\n",
        "    def __init__(self, feature_map_channels):\n",
        "        super().__init__()\n",
        "        num_anchors = 9\n",
        "        self.conv1 = nn.Conv2d(\n",
        "            in_channels=feature_map_channels,\n",
        "            out_channels=feature_map_channels,\n",
        "            kernel_size=(3, 3),\n",
        "            stride=1,\n",
        "            padding=\"same\",\n",
        "        )\n",
        "        self.classes = nn.Conv2d(\n",
        "            in_channels=feature_map_channels,\n",
        "            out_channels=num_anchors,\n",
        "            kernel_size=(1, 1),\n",
        "            stride=1,\n",
        "            padding=\"same\",\n",
        "        )\n",
        "        self.boxes = nn.Conv2d(\n",
        "            in_channels=feature_map_channels,\n",
        "            out_channels=num_anchors * 4,\n",
        "            kernel_size=(1, 1),\n",
        "            stride=1,\n",
        "            padding=\"same\",\n",
        "        )\n",
        "\n",
        "        # initialize weights\n",
        "        self.conv1.weight.data.normal_(mean=0.0, std=0.01)\n",
        "        self.conv1.bias.data.zero_()\n",
        "        self.classes.weight.data.normal_(mean=0.0, std=0.01)\n",
        "        self.classes.bias.data.zero_()\n",
        "        self.boxes.weight.data.normal_(mean=0.0, std=0.01)\n",
        "        self.boxes.bias.data.zero_()\n",
        "\n",
        "    def filter_proposals(self, preds, scores, im_shape):\n",
        "        \"\"\"\n",
        "        Filtering based on the paper describtion\n",
        "        \"\"\"\n",
        "\n",
        "        # Pre nms filtering\n",
        "        scores = scores.reshape(-1)\n",
        "        scores = torch.sigmoid(scores)\n",
        "\n",
        "        # selecting only top 10_000 scores, original paper applies 6000\n",
        "        sc = min(scores.shape[0], 12000)\n",
        "        topk_values, topk_idx = torch.topk(scores, sc)\n",
        "        scores = scores[topk_idx]\n",
        "        preds = preds[topk_idx]\n",
        "\n",
        "        # clipping boxes to image boundries\n",
        "        preds = clamp_boxes(preds, im_shape)\n",
        "\n",
        "        # remove anything less than 16 pixels\n",
        "        ws, hs = preds[:, 2] - preds[:, 0], preds[:, 3] - preds[:, 1]\n",
        "        keep = (ws >= 16) & (hs >= 16)\n",
        "        keep = torch.where(keep)[0]\n",
        "        preds = preds[keep]\n",
        "        scores = scores[keep]\n",
        "\n",
        "        # applying nms\n",
        "        keep_mask = torch.zeros_like(scores)\n",
        "        keep_indxs = nms(preds, scores, 0.7)\n",
        "        keep_mask[keep_indxs] = True\n",
        "        keep_indxs = torch.where(keep_mask)[0]\n",
        "\n",
        "        # sorting by scores\n",
        "        post_nms_indxs = keep_indxs[scores[keep_indxs].sort(descending=True)[1]]\n",
        "\n",
        "        # in the original paper we use 300\n",
        "        preds = preds[post_nms_indxs[:2000]]\n",
        "        scores = scores[post_nms_indxs[:2000]]\n",
        "\n",
        "        return preds, scores\n",
        "\n",
        "    def assign_targets_to_anchors(self, anchors, gt_boxes):\n",
        "        \"\"\"\n",
        "        Assigning labels for foreground (1), background (0), ignored anchors (-1)\n",
        "        :param anchors (Tensor shape (num of anchors x 4))\n",
        "        :param gt_boxes (Tensor shape (num of ground truth boxes (anchors) x 4))\n",
        "        \"\"\"\n",
        "        iou_matrix = iou_calc(gt_boxes, anchors)\n",
        "        # selecting top overlap values for each anchor\n",
        "        best_match_iou, best_match_iou_idx = iou_matrix.max(dim=0)\n",
        "\n",
        "        best_match_gt_idx_pre_thresholding = best_match_iou_idx.clone()\n",
        "\n",
        "        below_thershold = best_match_iou < 0.3\n",
        "        between_thershold = (best_match_iou < 0.7) & (best_match_iou >= 0.3)\n",
        "\n",
        "        best_match_iou_idx[below_thershold] = -1\n",
        "        best_match_iou_idx[between_thershold] = -2\n",
        "\n",
        "        # getting highest iou value amongst the all anchors\n",
        "        best_anchor_iou, _ = iou_matrix.max(dim=1)\n",
        "\n",
        "        # getting indexses of the best matching ious\n",
        "        highest_iou_idxs = torch.where(iou_matrix == best_anchor_iou[:, None])[1]\n",
        "\n",
        "        best_match_iou_idx[highest_iou_idxs] = best_match_gt_idx_pre_thresholding[\n",
        "            highest_iou_idxs\n",
        "        ]\n",
        "\n",
        "        # only matching values for foreground ignore background (-1) and ignored anchors (-2)\n",
        "        matched_gt_boxes = gt_boxes[best_match_iou_idx.clamp(min=0)]\n",
        "\n",
        "        # setting all foreground as 1\n",
        "        labels = (best_match_iou_idx >= 0).to(dtype=torch.float32)\n",
        "\n",
        "        # setting all bacgkround as 0\n",
        "        bg_anchors = best_match_iou_idx == -1\n",
        "        labels[bg_anchors] = 0.0\n",
        "\n",
        "        # finally all ignored anchors set to -1\n",
        "        ignored_anchors = best_match_iou_idx == -2\n",
        "        labels[ignored_anchors] = -1.0\n",
        "\n",
        "        return labels, matched_gt_boxes\n",
        "\n",
        "    def forward(self, feature_map, anchors, gt_boxes, image_shape):\n",
        "        \"\"\"\n",
        "        :param feature_map (Tensor shape (Number of anchors x 4))\n",
        "        :param anchor_map (Tensor shape (9 x 4))\n",
        "        :param gt_boxes (Tensor shape (number of object x 4))\n",
        "        :param image_shape (Tensor shape (im_resized_height x im_resized_width))\n",
        "        \"\"\"\n",
        "\n",
        "        # rpn layer\n",
        "        y = F.relu(self.conv1(feature_map))\n",
        "        objectness_scores_map = self.classes(y)\n",
        "        box_pred = self.boxes(y)\n",
        "\n",
        "        objectness_scores = objectness_scores_map.view(-1).to(dtype=torch.float64)\n",
        "        box_pred = box_pred.reshape(-1, 4)\n",
        "\n",
        "        # transform as 1 class\n",
        "        box_pred_transform = box_pred.detach().reshape(-1, 4)\n",
        "\n",
        "        # transforming anchors based on predictions\n",
        "        preds = generate_pred_boxes(box_pred_transform.detach().reshape(-1, 1, 4), anchors)\n",
        "        preds = preds.reshape(-1, 4)\n",
        "        preds, scores = self.filter_proposals(\n",
        "            preds, objectness_scores.detach(), image_shape\n",
        "        )\n",
        "\n",
        "        rpn_output = {\"proposals\": preds, \"scores\": scores}\n",
        "        if not self.training:\n",
        "            return rpn_output\n",
        "        else:\n",
        "            # assigning labels to foregorund, background, and ignored anchors\n",
        "            labels, matched_gt_boxes = self.assign_targets_to_anchors(anchors, gt_boxes)\n",
        "\n",
        "            # transform matched anchors foregorund anchors from format x1, y1, x2, y2, to x, y, w, h\n",
        "            regression_targets = boxes_to_targets(matched_gt_boxes, anchors)\n",
        "            # random sampling as positive and negative\n",
        "            mask_neg_idx, mask_pos_idx = sample_pos_neg(labels, 128, 256)\n",
        "\n",
        "            # selecting all of the neg and pos instances\n",
        "            sampled_idxs = torch.where(mask_neg_idx | mask_pos_idx)[0]\n",
        "            # calculating localization loss, and binary cross entropy loss\n",
        "            localization_loss = smooth_l1_loss(\n",
        "                box_pred_transform[mask_pos_idx],\n",
        "                regression_targets[mask_pos_idx],\n",
        "                beta=1 / 9,\n",
        "                reduction=\"sum\",\n",
        "            ) / (sampled_idxs.numel())\n",
        "\n",
        "            cls_loss = binary_cross_entropy_with_logits(\n",
        "                objectness_scores[sampled_idxs].flatten(),\n",
        "                labels[sampled_idxs].flatten(),\n",
        "            )\n",
        "\n",
        "            rpn_output[\"reg_loss\"] = localization_loss\n",
        "            rpn_output[\"cls_loss\"] = cls_loss\n",
        "\n",
        "            return rpn_output\n"
      ]
    },
    {
      "cell_type": "markdown",
      "metadata": {},
      "source": [
        "![alt](/home/nzrv/Dev/last_exam/src/images/image_grid.jpg)\n",
        "![alt](/home/nzrv/Dev/last_exam/src/images/base_anchors_one_tile.jpg)\n",
        "![alt](/home/nzrv/Dev/last_exam/src/images/all_anchors.jpg)\n",
        "![alt](/home/nzrv/Dev/last_exam/src/images/all_inside_anchors.jpg)\n",
        "![alt](/home/nzrv/Dev/last_exam/src/images/before_nms.jpg)"
      ]
    },
    {
      "cell_type": "markdown",
      "metadata": {
        "id": "lXlg5YCd0gf5"
      },
      "source": [
        "# ROI Head"
      ]
    },
    {
      "cell_type": "code",
      "execution_count": null,
      "metadata": {
        "id": "uP_TxXkc0iUc"
      },
      "outputs": [],
      "source": [
        "class ROI(nn.Module):\n",
        "    def __init__(self, num_classes):\n",
        "        super().__init__()\n",
        "\n",
        "        # roi layers\n",
        "        self.fully_connected_layer = nn.Sequential(\n",
        "            nn.Linear(in_features=512 * 7 * 7, out_features=1024),\n",
        "            nn.ReLU(),\n",
        "            nn.Linear(in_features=1024, out_features=1024),\n",
        "            nn.ReLU(),\n",
        "        )\n",
        "        self.classifier = nn.Linear(in_features=1024, out_features=num_classes)\n",
        "        self.regressor = nn.Linear(in_features=1024, out_features=num_classes * 4)\n",
        "\n",
        "        # initialize weights\n",
        "        self.classifier.weight.data.normal_(mean=0.0, std=0.01)\n",
        "        self.classifier.bias.data.zero_()\n",
        "        self.regressor.weight.data.normal_(mean=0.0, std=0.001)\n",
        "        self.regressor.bias.data.zero_()\n",
        "\n",
        "    def assign_target_to_proposal(self, proposals, gt_boxes=None, gt_labels=None):\n",
        "        iou = iou_calc(gt_boxes, proposals)\n",
        "\n",
        "        best_matched_iou, best_match_iou_idx = iou.max(dim=0)\n",
        "\n",
        "        bg_proposal = (best_matched_iou < 0.7) & (best_matched_iou >= 0.3)\n",
        "        ignored_proposal = best_matched_iou < 0.3\n",
        "\n",
        "        best_matched_iou[bg_proposal] = -1\n",
        "        best_matched_iou[ignored_proposal] = -2\n",
        "\n",
        "        # we are getting every ground truth boxes for proposals even background\n",
        "        matched_gt_boxes = gt_boxes[best_match_iou_idx.clamp(min=0)]\n",
        "        gt_labels = gt_labels.squeeze(0)\n",
        "        labels = gt_labels[best_match_iou_idx.clamp(min=0)].to(device=device)\n",
        "\n",
        "        labels[bg_proposal] = 0\n",
        "        labels[ignored_proposal] = -1\n",
        "\n",
        "        return labels, matched_gt_boxes\n",
        "\n",
        "    def filter_predictions(self, pred_boxes, pred_labels, pred_scores):\n",
        "        \"\"\"\n",
        "        We are gonna apply in order:\n",
        "        1. Filter low score boxes\n",
        "        2. Remove small sized boxes\n",
        "        3. nms for each class\n",
        "        4. keep only top values\n",
        "        \"\"\"\n",
        "        # remove low scoring boxes\n",
        "        keep = torch.where(pred_scores > 0.05)[0]\n",
        "        pred_boxes, pred_scores, pred_labels = (\n",
        "            pred_boxes[keep],\n",
        "            pred_scores[keep],\n",
        "            pred_labels[keep],\n",
        "        )\n",
        "\n",
        "        # Remove small boxes\n",
        "        min_size = 16\n",
        "        ws, hs = (\n",
        "            pred_boxes[:, 2] - pred_boxes[:, 0],\n",
        "            pred_boxes[:, 3] - pred_boxes[:, 1],\n",
        "        )\n",
        "        keep = (ws >= min_size) & (hs >= min_size)\n",
        "        keep = torch.where(keep)[0]\n",
        "        pred_boxes, pred_scores, pred_labels = (\n",
        "            pred_boxes[keep],\n",
        "            pred_scores[keep],\n",
        "            pred_labels[keep],\n",
        "        )\n",
        "\n",
        "        # Class wise nms\n",
        "        keep_mask = torch.zeros_like(pred_scores, dtype=torch.bool)\n",
        "        for class_id in torch.unique(pred_labels):\n",
        "            curr_indices = torch.where(pred_labels == class_id)[0]\n",
        "            curr_keep_indices = nms(\n",
        "                pred_boxes[curr_indices], pred_scores[curr_indices], 0.3\n",
        "            )\n",
        "            keep_mask[curr_indices[curr_keep_indices]] = True\n",
        "\n",
        "        keep_indices = torch.where(keep_mask)[0]\n",
        "        post_nms_keep_indices = keep_indices[\n",
        "            pred_scores[keep_indices].sort(descending=True)[1]\n",
        "        ]\n",
        "        keep = post_nms_keep_indices[:100]\n",
        "        pred_boxes, pred_scores, pred_labels = (\n",
        "            pred_boxes[keep],\n",
        "            pred_scores[keep],\n",
        "            pred_labels[keep],\n",
        "        )\n",
        "        return pred_boxes, pred_labels, pred_scores\n",
        "\n",
        "    def forward(self, features, proposals, image_shape, gt_boxes, gt_labels):\n",
        "        proposals = proposals.to(dtype=torch.float32)\n",
        "        if self.training and gt_boxes is not None and gt_labels is not None:\n",
        "            # concatign proposals with grouth truth boxes\n",
        "            proposals = torch.cat([proposals, gt_boxes], dim=0)\n",
        "            labels, matched_boxes = self.assign_target_to_proposal(\n",
        "                proposals, gt_boxes, gt_labels\n",
        "            )\n",
        "            pos_idx, neg_idx = sample_pos_neg(labels, 32, 128)\n",
        "\n",
        "            sampled_idxs = torch.where(pos_idx | neg_idx)[0]\n",
        "\n",
        "            # keeping only sampled proposals\n",
        "            proposals = proposals[sampled_idxs]\n",
        "            labels = labels[sampled_idxs]\n",
        "            matched_boxes = matched_boxes[sampled_idxs]\n",
        "            regression_targets = boxes_to_targets(matched_boxes, proposals)\n",
        "\n",
        "        possible_sacles = []\n",
        "\n",
        "        # we need to set scale factro because of the downscale form image to feature map\n",
        "        # for vgg16 it would be 1/16 (0.0625)\n",
        "        for s1, s2 in zip(features.shape[-2:], image_shape):\n",
        "            approx_scale = float(s1) / float(s2)\n",
        "            scale = 2 ** float(torch.tensor(approx_scale).log2().round())\n",
        "            possible_sacles.append(scale)\n",
        "\n",
        "        proposal_roi_pool_feats = roi_pool(\n",
        "            features, [proposals], output_size=7, spatial_scale=possible_sacles[0]\n",
        "        ).flatten(start_dim=1)\n",
        "\n",
        "        fc = self.fully_connected_layer(proposal_roi_pool_feats)\n",
        "\n",
        "        cls_scores = self.classifier(fc)\n",
        "        box_transform_pred = self.regressor(fc)\n",
        "\n",
        "        # calculating loss\n",
        "        num_boxes, num_classes = cls_scores.shape\n",
        "        box_transform_pred = box_transform_pred.reshape(num_boxes, num_classes, 4)\n",
        "\n",
        "        output = {}\n",
        "        if self.training and gt_boxes is not None and gt_labels is not None:\n",
        "            # labels = labels.squeeze(1)\n",
        "            classification_loss = cross_entropy(cls_scores, labels)\n",
        "\n",
        "            # Compute loss only for foreground\n",
        "            fg_propsal_idxs = torch.where(labels > 0)[0]\n",
        "            fg_cls_labels = labels[fg_propsal_idxs]\n",
        "\n",
        "            localizaiton_loss = (\n",
        "                smooth_l1_loss(\n",
        "                    box_transform_pred[fg_propsal_idxs, fg_cls_labels],\n",
        "                    regression_targets[fg_propsal_idxs],\n",
        "                    beta=1 / 9,\n",
        "                    reduction=\"sum\",\n",
        "                )\n",
        "                / labels.numel()\n",
        "            )\n",
        "\n",
        "            output[\"classificaiton_loss\"] = classification_loss\n",
        "            output[\"localizaiton_loss\"] = localizaiton_loss\n",
        "        if self.training:\n",
        "            return output\n",
        "        else:\n",
        "            pred_boxes = generate_pred_boxes(box_transform_pred, proposals)\n",
        "            pred_scores = softmax(cls_scores, dim=-1)\n",
        "\n",
        "            # creating labels for each prediction\n",
        "            pred_labels = torch.arange(num_classes, device=device)\n",
        "            pred_labels = pred_labels.view(1, -1).expand_as(pred_scores)\n",
        "\n",
        "            # clamp boxes to boundry\n",
        "            pred_boxes = clamp_boxes(pred_boxes, image_shape)\n",
        "\n",
        "            # remove predictions with the background label\n",
        "            pred_boxes = pred_boxes[:, 1:]\n",
        "            pred_scores = pred_scores[:, 1:]\n",
        "            pred_labels = pred_labels[:, 1:]\n",
        "\n",
        "            pred_boxes = pred_boxes.reshape(-1, 4)\n",
        "            pred_scores = pred_scores.reshape(-1)\n",
        "            pred_labels = pred_labels.reshape(-1)\n",
        "\n",
        "            pred_boxes, pred_labels, pred_scores = self.filter_predictions(\n",
        "                pred_boxes, pred_labels, pred_scores\n",
        "            )\n",
        "            output[\"boxes\"] = pred_boxes\n",
        "            output[\"scores\"] = pred_scores\n",
        "            output[\"labels\"] = pred_labels\n",
        "            return output"
      ]
    },
    {
      "cell_type": "markdown",
      "metadata": {},
      "source": [
        "![Alt](/home/nzrv/Dev/last_exam/src/images/roi_pooling-1.gif)"
      ]
    },
    {
      "cell_type": "markdown",
      "metadata": {
        "id": "H8sX0O_q3c39"
      },
      "source": [
        "# Feature extractor"
      ]
    },
    {
      "cell_type": "code",
      "execution_count": 10,
      "metadata": {
        "id": "kYLl7KHd3eb0"
      },
      "outputs": [],
      "source": [
        "class FeatureExtractor(nn.Module):\n",
        "    def __init__(self):\n",
        "        super().__init__()\n",
        "        vgg_backbone = vgg16(weights=VGG16_Weights.DEFAULT)\n",
        "        for param in vgg_backbone.parameters():\n",
        "            param.requires_grad = False\n",
        "        self.backbone = nn.Sequential(*list(vgg_backbone.features.children())[:-1])\n",
        "\n",
        "    def forward(self, image):\n",
        "        self.backbone.eval().to(device)\n",
        "        return self.backbone(image)"
      ]
    },
    {
      "cell_type": "code",
      "execution_count": 40,
      "metadata": {},
      "outputs": [
        {
          "name": "stdout",
          "output_type": "stream",
          "text": [
            "----------------------------------------------------------------\n",
            "        Layer (type)               Output Shape         Param #\n",
            "================================================================\n",
            "            Conv2d-1         [-1, 64, 600, 600]           1,792\n",
            "              ReLU-2         [-1, 64, 600, 600]               0\n",
            "            Conv2d-3         [-1, 64, 600, 600]          36,928\n",
            "              ReLU-4         [-1, 64, 600, 600]               0\n",
            "         MaxPool2d-5         [-1, 64, 300, 300]               0\n",
            "            Conv2d-6        [-1, 128, 300, 300]          73,856\n",
            "              ReLU-7        [-1, 128, 300, 300]               0\n",
            "            Conv2d-8        [-1, 128, 300, 300]         147,584\n",
            "              ReLU-9        [-1, 128, 300, 300]               0\n",
            "        MaxPool2d-10        [-1, 128, 150, 150]               0\n",
            "           Conv2d-11        [-1, 256, 150, 150]         295,168\n",
            "             ReLU-12        [-1, 256, 150, 150]               0\n",
            "           Conv2d-13        [-1, 256, 150, 150]         590,080\n",
            "             ReLU-14        [-1, 256, 150, 150]               0\n",
            "           Conv2d-15        [-1, 256, 150, 150]         590,080\n",
            "             ReLU-16        [-1, 256, 150, 150]               0\n",
            "        MaxPool2d-17          [-1, 256, 75, 75]               0\n",
            "           Conv2d-18          [-1, 512, 75, 75]       1,180,160\n",
            "             ReLU-19          [-1, 512, 75, 75]               0\n",
            "           Conv2d-20          [-1, 512, 75, 75]       2,359,808\n",
            "             ReLU-21          [-1, 512, 75, 75]               0\n",
            "           Conv2d-22          [-1, 512, 75, 75]       2,359,808\n",
            "             ReLU-23          [-1, 512, 75, 75]               0\n",
            "        MaxPool2d-24          [-1, 512, 37, 37]               0\n",
            "           Conv2d-25          [-1, 512, 37, 37]       2,359,808\n",
            "             ReLU-26          [-1, 512, 37, 37]               0\n",
            "           Conv2d-27          [-1, 512, 37, 37]       2,359,808\n",
            "             ReLU-28          [-1, 512, 37, 37]               0\n",
            "           Conv2d-29          [-1, 512, 37, 37]       2,359,808\n",
            "             ReLU-30          [-1, 512, 37, 37]               0\n",
            "================================================================\n",
            "Total params: 14,714,688\n",
            "Trainable params: 0\n",
            "Non-trainable params: 14,714,688\n",
            "----------------------------------------------------------------\n",
            "Input size (MB): 4.12\n",
            "Forward/backward pass size (MB): 1564.53\n",
            "Params size (MB): 56.13\n",
            "Estimated Total Size (MB): 1624.79\n",
            "----------------------------------------------------------------\n"
          ]
        }
      ],
      "source": [
        "summary(FeatureExtractor(), input_size=(3, 600, 600))"
      ]
    },
    {
      "cell_type": "code",
      "execution_count": 65,
      "metadata": {},
      "outputs": [
        {
          "data": {
            "image/png": "[encoded data removed]",
            "text/plain": [
              "<Figure size 1600x1000 with 25 Axes>"
            ]
          },
          "metadata": {},
          "output_type": "display_data"
        }
      ],
      "source": [
        "feature_ext = FeatureExtractor()\n",
        "\n",
        "image_path = \"training\"\n",
        "box_path = \"data_object_label_2\"\n",
        "data_img = ObjectDataset(image_path, box_path)[0]\n",
        "image = data_img[\"image\"]\n",
        "img = feature_ext(image)\n",
        "\n",
        "figure, axes = plt.subplots(nrows=5, ncols=5, figsize=(16, 10))\n",
        "for index, axe in enumerate(axes.flat):\n",
        "    axe.imshow(img.detach().cpu()[index])\n",
        "plt.show()"
      ]
    },
    {
      "cell_type": "markdown",
      "metadata": {
        "id": "eI9NpnoP3Wbz"
      },
      "source": [
        "# Faster Rcnn"
      ]
    },
    {
      "cell_type": "code",
      "execution_count": null,
      "metadata": {
        "id": "g24rlbOI3YIT"
      },
      "outputs": [],
      "source": [
        "class FasterRcnn(nn.Module):\n",
        "    def __init__(self):\n",
        "        super().__init__()\n",
        "        self.feature_extractor = FeatureExtractor()\n",
        "        self.rpn = RegionProposalNetwork(512)\n",
        "        self.roi = ROI(21)\n",
        "\n",
        "    def normalize(self, image, gt_boxes=None):\n",
        "        min_size = 600\n",
        "        max_size = 1000\n",
        "        # normalize image by mean and standart deviation\n",
        "        mean = torch.tensor([0.485, 0.456, 0.406], dtype=torch.float32, device=device)\n",
        "        std = torch.tensor([0.229, 0.224, 0.225], dtype=torch.float32, device=device)\n",
        "\n",
        "        image = (image - mean[:, None, None]) / std[:, None, None]\n",
        "\n",
        "        # resize image\n",
        "        h, w = image.shape[-2:]\n",
        "        im_shape = torch.tensor(image.shape[-2:])\n",
        "        img_min_size = torch.min(im_shape).to(dtype=torch.float32)\n",
        "        img_max_size = torch.max(im_shape).to(dtype=torch.float32)\n",
        "        scale = torch.min(\n",
        "            float(min_size) / img_min_size, float(max_size) / img_max_size\n",
        "        )\n",
        "        image = torch.nn.functional.interpolate(\n",
        "            image,\n",
        "            size=None,\n",
        "            scale_factor=scale.item(),\n",
        "            mode=\"bilinear\",\n",
        "            recompute_scale_factor=True,\n",
        "            align_corners=False,\n",
        "        )\n",
        "        if gt_boxes is not None:\n",
        "            ratios = [\n",
        "                torch.tensor(s, dtype=torch.float32, device=device)\n",
        "                / torch.tensor(s_orig, dtype=torch.float32, device=device)\n",
        "                for s, s_orig in zip(image.shape[-2:], (h, w))\n",
        "            ]\n",
        "            ratio_height, ratio_width = ratios\n",
        "            gt_boxes = gt_boxes.unsqueeze(0)\n",
        "            xmin, ymin, xmax, ymax = gt_boxes.unbind(1)\n",
        "            xmin = xmin * ratio_width\n",
        "            xmax = xmax * ratio_width\n",
        "            ymin = ymin * ratio_height\n",
        "            ymax = ymax * ratio_height\n",
        "            gt_boxes = torch.stack((xmin, ymin, xmax, ymax), dim=1)\n",
        "        return image, gt_boxes\n",
        "\n",
        "    def forward(\n",
        "        self,\n",
        "        image,\n",
        "        gt_boxes=None,\n",
        "        gt_labels=None,\n",
        "    ):\n",
        "        # old_shape = image.shape[-2:]\n",
        "        # if self.training:\n",
        "        #     image, gt_boxes = self.normalize(image, gt_boxes)\n",
        "        # else:\n",
        "        #     image, _ = self.normalize(image, None)\n",
        "        features = self.feature_extractor(image)\n",
        "        anchors = generate_anchor_maps(image, features)\n",
        "        rpn = self.rpn(features, anchors, gt_boxes, image.shape)\n",
        "        roi = self.roi(\n",
        "            features, rpn[\"proposals\"], image.shape[-2:], gt_boxes, gt_labels\n",
        "        )\n",
        "        # if not self.training:\n",
        "        #     roi[\"boxes\"] = boxes_to_original(roi[\"boxes\"], image.shape[-2:], old_shape)\n",
        "\n",
        "        return rpn, roi"
      ]
    },
    {
      "cell_type": "markdown",
      "metadata": {},
      "source": [
        "![alt text](/home/nzrv/Dev/last_exam/src/images/full_model.png)"
      ]
    },
    {
      "cell_type": "markdown",
      "metadata": {},
      "source": [
        "# Training"
      ]
    },
    {
      "cell_type": "code",
      "execution_count": null,
      "metadata": {},
      "outputs": [
        {
          "name": "stderr",
          "output_type": "stream",
          "text": [
            "100%|██████████| 17125/17125 [00:01<00:00, 11799.88it/s]\n",
            "Downloading: \"https://download.pytorch.org/models/vgg16-397923af.pth\" to /root/.cache/torch/hub/checkpoints/vgg16-397923af.pth\n",
            "100%|██████████| 528M/528M [00:03<00:00, 146MB/s]\n",
            "  0%|          | 0/17125 [00:00<?, ?it/s]/tmp/ipython-input-15-2249880213.py:43: UserWarning: To copy construct from a tensor, it is recommended to use sourceTensor.clone().detach() or sourceTensor.clone().detach().requires_grad_(True), rather than torch.tensor(sourceTensor).\n",
            "  gt_labels = torch.tensor(gt_labels, device=device)\n",
            "100%|██████████| 17125/17125 [13:38<00:00, 20.92it/s]\n"
          ]
        },
        {
          "name": "stdout",
          "output_type": "stream",
          "text": [
            " RPN Classification Loss : 0.3798 RPN Localization Loss : 0.1585 ROI Classification Loss : 0.2857 ROI Localization Loss : 0.0081\n"
          ]
        },
        {
          "name": "stderr",
          "output_type": "stream",
          "text": [
            "100%|██████████| 17125/17125 [13:32<00:00, 21.09it/s]\n"
          ]
        },
        {
          "name": "stdout",
          "output_type": "stream",
          "text": [
            " RPN Classification Loss : 0.3731 RPN Localization Loss : 0.1583 ROI Classification Loss : 0.2499 ROI Localization Loss : 0.0086\n"
          ]
        },
        {
          "name": "stderr",
          "output_type": "stream",
          "text": [
            "100%|██████████| 17125/17125 [13:24<00:00, 21.28it/s]\n"
          ]
        },
        {
          "name": "stdout",
          "output_type": "stream",
          "text": [
            " RPN Classification Loss : 0.3701 RPN Localization Loss : 0.1582 ROI Classification Loss : 0.2299 ROI Localization Loss : 0.0088\n"
          ]
        },
        {
          "name": "stderr",
          "output_type": "stream",
          "text": [
            "100%|██████████| 17125/17125 [13:14<00:00, 21.55it/s]\n"
          ]
        },
        {
          "name": "stdout",
          "output_type": "stream",
          "text": [
            " RPN Classification Loss : 0.3682 RPN Localization Loss : 0.1580 ROI Classification Loss : 0.2158 ROI Localization Loss : 0.0090\n"
          ]
        },
        {
          "name": "stderr",
          "output_type": "stream",
          "text": [
            "100%|██████████| 17125/17125 [13:18<00:00, 21.45it/s]\n"
          ]
        },
        {
          "name": "stdout",
          "output_type": "stream",
          "text": [
            " RPN Classification Loss : 0.3669 RPN Localization Loss : 0.1579 ROI Classification Loss : 0.2049 ROI Localization Loss : 0.0089\n"
          ]
        },
        {
          "name": "stderr",
          "output_type": "stream",
          "text": [
            "100%|██████████| 17125/17125 [13:18<00:00, 21.45it/s]\n"
          ]
        },
        {
          "name": "stdout",
          "output_type": "stream",
          "text": [
            " RPN Classification Loss : 0.3659 RPN Localization Loss : 0.1579 ROI Classification Loss : 0.1959 ROI Localization Loss : 0.0088\n"
          ]
        },
        {
          "name": "stderr",
          "output_type": "stream",
          "text": [
            "100%|██████████| 17125/17125 [13:27<00:00, 21.20it/s]\n"
          ]
        },
        {
          "name": "stdout",
          "output_type": "stream",
          "text": [
            " RPN Classification Loss : 0.3651 RPN Localization Loss : 0.1578 ROI Classification Loss : 0.1884 ROI Localization Loss : 0.0087\n"
          ]
        },
        {
          "name": "stderr",
          "output_type": "stream",
          "text": [
            "100%|██████████| 17125/17125 [13:24<00:00, 21.29it/s]\n"
          ]
        },
        {
          "name": "stdout",
          "output_type": "stream",
          "text": [
            " RPN Classification Loss : 0.3645 RPN Localization Loss : 0.1577 ROI Classification Loss : 0.1819 ROI Localization Loss : 0.0086\n"
          ]
        },
        {
          "name": "stderr",
          "output_type": "stream",
          "text": [
            "100%|██████████| 17125/17125 [13:18<00:00, 21.46it/s]\n"
          ]
        },
        {
          "name": "stdout",
          "output_type": "stream",
          "text": [
            " RPN Classification Loss : 0.3639 RPN Localization Loss : 0.1577 ROI Classification Loss : 0.1761 ROI Localization Loss : 0.0085\n"
          ]
        },
        {
          "name": "stderr",
          "output_type": "stream",
          "text": [
            "100%|██████████| 17125/17125 [13:22<00:00, 21.33it/s]\n"
          ]
        },
        {
          "name": "stdout",
          "output_type": "stream",
          "text": [
            " RPN Classification Loss : 0.3634 RPN Localization Loss : 0.1576 ROI Classification Loss : 0.1710 ROI Localization Loss : 0.0084\n"
          ]
        },
        {
          "name": "stderr",
          "output_type": "stream",
          "text": [
            "100%|██████████| 17125/17125 [13:21<00:00, 21.36it/s]\n"
          ]
        },
        {
          "name": "stdout",
          "output_type": "stream",
          "text": [
            " RPN Classification Loss : 0.3630 RPN Localization Loss : 0.1575 ROI Classification Loss : 0.1665 ROI Localization Loss : 0.0082\n"
          ]
        },
        {
          "name": "stderr",
          "output_type": "stream",
          "text": [
            "100%|██████████| 17125/17125 [13:21<00:00, 21.37it/s]\n"
          ]
        },
        {
          "name": "stdout",
          "output_type": "stream",
          "text": [
            " RPN Classification Loss : 0.3626 RPN Localization Loss : 0.1575 ROI Classification Loss : 0.1624 ROI Localization Loss : 0.0081\n"
          ]
        },
        {
          "name": "stderr",
          "output_type": "stream",
          "text": [
            "100%|██████████| 17125/17125 [13:19<00:00, 21.41it/s]\n"
          ]
        },
        {
          "name": "stdout",
          "output_type": "stream",
          "text": [
            " RPN Classification Loss : 0.3621 RPN Localization Loss : 0.1574 ROI Classification Loss : 0.1570 ROI Localization Loss : 0.0078\n"
          ]
        },
        {
          "name": "stderr",
          "output_type": "stream",
          "text": [
            "100%|██████████| 17125/17125 [13:17<00:00, 21.48it/s]\n"
          ]
        },
        {
          "name": "stdout",
          "output_type": "stream",
          "text": [
            " RPN Classification Loss : 0.3617 RPN Localization Loss : 0.1574 ROI Classification Loss : 0.1518 ROI Localization Loss : 0.0076\n"
          ]
        },
        {
          "name": "stderr",
          "output_type": "stream",
          "text": [
            "100%|██████████| 17125/17125 [13:16<00:00, 21.50it/s]\n"
          ]
        },
        {
          "name": "stdout",
          "output_type": "stream",
          "text": [
            " RPN Classification Loss : 0.3614 RPN Localization Loss : 0.1573 ROI Classification Loss : 0.1468 ROI Localization Loss : 0.0074\n"
          ]
        },
        {
          "name": "stderr",
          "output_type": "stream",
          "text": [
            "100%|██████████| 17125/17125 [13:18<00:00, 21.45it/s]\n"
          ]
        },
        {
          "name": "stdout",
          "output_type": "stream",
          "text": [
            " RPN Classification Loss : 0.3611 RPN Localization Loss : 0.1573 ROI Classification Loss : 0.1423 ROI Localization Loss : 0.0072\n"
          ]
        },
        {
          "name": "stderr",
          "output_type": "stream",
          "text": [
            "100%|██████████| 17125/17125 [13:16<00:00, 21.51it/s]\n"
          ]
        },
        {
          "name": "stdout",
          "output_type": "stream",
          "text": [
            " RPN Classification Loss : 0.3608 RPN Localization Loss : 0.1573 ROI Classification Loss : 0.1379 ROI Localization Loss : 0.0071\n"
          ]
        },
        {
          "name": "stderr",
          "output_type": "stream",
          "text": [
            "100%|██████████| 17125/17125 [13:18<00:00, 21.45it/s]\n"
          ]
        },
        {
          "name": "stdout",
          "output_type": "stream",
          "text": [
            " RPN Classification Loss : 0.3606 RPN Localization Loss : 0.1573 ROI Classification Loss : 0.1340 ROI Localization Loss : 0.0069\n"
          ]
        },
        {
          "name": "stderr",
          "output_type": "stream",
          "text": [
            "100%|██████████| 17125/17125 [13:21<00:00, 21.36it/s]\n"
          ]
        },
        {
          "name": "stdout",
          "output_type": "stream",
          "text": [
            " RPN Classification Loss : 0.3604 RPN Localization Loss : 0.1572 ROI Classification Loss : 0.1305 ROI Localization Loss : 0.0068\n"
          ]
        },
        {
          "name": "stderr",
          "output_type": "stream",
          "text": [
            "100%|██████████| 17125/17125 [13:22<00:00, 21.33it/s]\n"
          ]
        },
        {
          "name": "stdout",
          "output_type": "stream",
          "text": [
            " RPN Classification Loss : 0.3602 RPN Localization Loss : 0.1572 ROI Classification Loss : 0.1273 ROI Localization Loss : 0.0067\n"
          ]
        }
      ],
      "source": [
        "def load_dataset():\n",
        "    traning_data = DataLoader(\n",
        "        VOCDataset(\n",
        "            \"train\", \"VOCdevkit/VOC2012/JPEGImages\", \"VOCdevkit/VOC2012/Annotations\"\n",
        "        ),\n",
        "        batch_size=1,\n",
        "        shuffle=True\n",
        "    )\n",
        "    return traning_data\n",
        "\n",
        "\n",
        "def load_model():\n",
        "    model = FasterRcnn().to(device)\n",
        "    model.train()\n",
        "    optim = SGD(params=model.parameters(), lr=0.001, weight_decay=5e-4, momentum=0.9)\n",
        "    scheduler = MultiStepLR(optim, [12, 16], gamma=0.1)\n",
        "    return model, optim, scheduler\n",
        "\n",
        "if __name__ == \"__main__\":\n",
        "    dataset = load_dataset()\n",
        "    rpn_cls_losses = []\n",
        "    rpn_reg_losses = []\n",
        "    roi_cls_losses = []\n",
        "    roi_reg_losses = []\n",
        "    model, optim, scheduler = load_model()\n",
        "\n",
        "    epochs = 20\n",
        "    for epoch in range(epochs):\n",
        "        optim.zero_grad()\n",
        "\n",
        "        for batch in tqdm(dataset):\n",
        "            image, gt_boxes, labels, gt_labels = (\n",
        "                batch[\"image\"],\n",
        "                batch[\"cords\"],\n",
        "                batch[\"labels\"],\n",
        "                batch[\"gt_labels\"],\n",
        "            )\n",
        "\n",
        "            gt_labels = torch.tensor(gt_labels, device=device)\n",
        "            gt_boxes = gt_boxes.squeeze(0)\n",
        "            rpn, roi = model(image, gt_boxes, gt_labels)\n",
        "\n",
        "            rpn_reg_loss, rpn_cls_loss = rpn[\"reg_loss\"], rpn[\"cls_loss\"]\n",
        "            roi_reg_loss, roi_cls_loss = (\n",
        "                roi[\"localizaiton_loss\"],\n",
        "                roi[\"classificaiton_loss\"],\n",
        "            )\n",
        "            rpn_cls_losses.append(rpn_cls_loss.item())\n",
        "            rpn_reg_losses.append(rpn_reg_loss.item())\n",
        "            roi_cls_losses.append(roi_cls_loss.item())\n",
        "            roi_reg_losses.append(roi_reg_loss.item())\n",
        "\n",
        "            total_loss = rpn_reg_loss + rpn_cls_loss + roi_reg_loss + roi_cls_loss\n",
        "\n",
        "            total_loss.backward()\n",
        "\n",
        "            optim.step()\n",
        "            optim.zero_grad()\n",
        "\n",
        "        optim.step()\n",
        "        optim.zero_grad()\n",
        "\n",
        "        models_path = get_path(\"models\") / f\"model{epoch}.pth\"\n",
        "        torch.save(model.state_dict(), models_path)\n",
        "\n",
        "        loss_output = \"\"\n",
        "        loss_output += \" RPN Classification Loss : {:.4f}\".format(\n",
        "            np.mean(rpn_cls_losses)\n",
        "        )\n",
        "        loss_output += \" RPN Localization Loss : {:.4f}\".format(\n",
        "            np.mean(rpn_reg_losses)\n",
        "        )\n",
        "        loss_output += \" ROI Classification Loss : {:.4f}\".format(\n",
        "            np.mean(roi_cls_losses)\n",
        "        )\n",
        "        loss_output += \" ROI Localization Loss : {:.4f}\".format(\n",
        "            np.mean(roi_reg_losses)\n",
        "        )\n",
        "        print(loss_output)\n",
        "        scheduler.step()"
      ]
    }
  ],
  "metadata": {
    "accelerator": "GPU",
    "colab": {
      "collapsed_sections": [
        "5jxL7EyE1_gN",
        "YNljSyUt2q6C",
        "r0Dw7ZIu21eu",
        "5v0h97do3JQ2",
        "PaPd48ip28lH",
        "lXlg5YCd0gf5",
        "H8sX0O_q3c39",
        "eI9NpnoP3Wbz"
      ],
      "gpuType": "T4",
      "provenance": []
    },
    "kernelspec": {
      "display_name": ".venv",
      "language": "python",
      "name": "python3"
    },
    "language_info": {
      "codemirror_mode": {
        "name": "ipython",
        "version": 3
      },
      "file_extension": ".py",
      "mimetype": "text/x-python",
      "name": "python",
      "nbconvert_exporter": "python",
      "pygments_lexer": "ipython3",
      "version": "3.12.3"
    }
  },
  "nbformat": 4,
  "nbformat_minor": 0
}
